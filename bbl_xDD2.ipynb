{
 "cells": [
  {
   "cell_type": "code",
   "execution_count": 1,
   "metadata": {},
   "outputs": [],
   "source": [
    "import json \n",
    "import requests"
   ]
  },
  {
   "cell_type": "code",
   "execution_count": 2,
   "metadata": {},
   "outputs": [],
   "source": [
    "\n",
    "def xdd_api(route, params):\n",
    "    \"\"\"Create list of docs mentioning a term of interest\n",
    "    Parameters : see https://geodeepdive.org/api for more detail\n",
    "    ----------\n",
    "    routes : str of available api routes for xDD \n",
    "    params : str of key value pairs of paramaters:values separated by &\n",
    "    \"\"\"\n",
    "    url = 'https://geodeepdive.org/api'\n",
    "    search = (url + '/' + route + '?' + str(params))\n",
    "    all_data = []\n",
    "    print (search)\n",
    "    try:\n",
    "        while search != '':\n",
    "            r=requests.get(search)\n",
    "            if r.status_code == 200 and 'success' in r.json():\n",
    "                json_r = r.json()\n",
    "                data = json_r['success']['data']\n",
    "                search = json_r['success']['next_page']\n",
    "                hits = json_r['success']['hits']\n",
    "                for i in data:\n",
    "                    all_data.append(i)\n",
    "            else:\n",
    "                raise Exception('xDD API returning: {}'.format(r.status_code))\n",
    "            \n",
    "    except Exception as e:\n",
    "        raise Exception(e)\n",
    "        \n",
    "    return all_data, hits\n"
   ]
  },
  {
   "cell_type": "code",
   "execution_count": 11,
   "metadata": {},
   "outputs": [
    {
     "name": "stdout",
     "output_type": "stream",
     "text": [
      "https://geodeepdive.org/api/snippets?term=bird banding lab&clean&full_results\n",
      "https://geodeepdive.org/api/snippets?term=bird banding office&clean&full_results\n",
      "https://geodeepdive.org/api/snippets?term=bird banding laboratory&clean&full_results\n"
     ]
    }
   ],
   "source": [
    "#Specify API route and parameters needed for search\n",
    "\n",
    "# RUN FOR TERMS RELATED TO THE OFFICE NAMES ONLY\n",
    "route = 'snippets'\n",
    "\n",
    "#Set a term or loop through terms\n",
    "terms = ['bird banding lab', 'bird banding office', 'bird banding laboratory']\n",
    "\n",
    "\n",
    "for i in terms:\n",
    "    #List of available parameters and examples : 'https://geodeepdive.org/api/snippets'\n",
    "    params = 'term=' + i + '&clean&full_results'\n",
    "\n",
    "    #Search xDD results (detailed results per article) and hits = total # articles with mentions\n",
    "    results, hits = xdd_api(route, params)\n",
    "    \n",
    "    with open('xdd_json/' + i + '.txt', 'w') as outfile:\n",
    "        json.dump(results, outfile)\n",
    "    "
   ]
  },
  {
   "cell_type": "code",
   "execution_count": 13,
   "metadata": {},
   "outputs": [
    {
     "name": "stdout",
     "output_type": "stream",
     "text": [
      "https://geodeepdive.org/api/snippets?term=avian mist&clean&full_results\n",
      "https://geodeepdive.org/api/snippets?term=avian mist net&clean&full_results\n",
      "https://geodeepdive.org/api/snippets?term=avian banding&clean&full_results\n",
      "https://geodeepdive.org/api/snippets?term=avian web tag&clean&full_results\n",
      "https://geodeepdive.org/api/snippets?term=avian color band&clean&full_results\n",
      "https://geodeepdive.org/api/snippets?term=avian aluminum band&clean&full_results\n",
      "https://geodeepdive.org/api/snippets?term=avian neck collar&clean&full_results\n",
      "https://geodeepdive.org/api/snippets?term=avian ratio transmitter&clean&full_results\n",
      "https://geodeepdive.org/api/snippets?term=avian telemetry&clean&full_results\n",
      "https://geodeepdive.org/api/snippets?term=avian gps collar&clean&full_results\n",
      "https://geodeepdive.org/api/snippets?term=avian gps unit&clean&full_results\n",
      "https://geodeepdive.org/api/snippets?term=songbird mist&clean&full_results\n",
      "https://geodeepdive.org/api/snippets?term=songbird mist net&clean&full_results\n",
      "https://geodeepdive.org/api/snippets?term=songbird banding&clean&full_results\n",
      "https://geodeepdive.org/api/snippets?term=songbird web tag&clean&full_results\n",
      "https://geodeepdive.org/api/snippets?term=songbird color band&clean&full_results\n",
      "https://geodeepdive.org/api/snippets?term=songbird aluminum band&clean&full_results\n",
      "https://geodeepdive.org/api/snippets?term=songbird neck collar&clean&full_results\n",
      "https://geodeepdive.org/api/snippets?term=songbird ratio transmitter&clean&full_results\n",
      "https://geodeepdive.org/api/snippets?term=songbird telemetry&clean&full_results\n",
      "https://geodeepdive.org/api/snippets?term=songbird gps collar&clean&full_results\n",
      "https://geodeepdive.org/api/snippets?term=songbird gps unit&clean&full_results\n",
      "https://geodeepdive.org/api/snippets?term=bird mist&clean&full_results\n",
      "https://geodeepdive.org/api/snippets?term=bird mist net&clean&full_results\n",
      "https://geodeepdive.org/api/snippets?term=bird banding&clean&full_results\n",
      "https://geodeepdive.org/api/snippets?term=bird web tag&clean&full_results\n",
      "https://geodeepdive.org/api/snippets?term=bird color band&clean&full_results\n",
      "https://geodeepdive.org/api/snippets?term=bird aluminum band&clean&full_results\n",
      "https://geodeepdive.org/api/snippets?term=bird neck collar&clean&full_results\n",
      "https://geodeepdive.org/api/snippets?term=bird ratio transmitter&clean&full_results\n",
      "https://geodeepdive.org/api/snippets?term=bird telemetry&clean&full_results\n",
      "https://geodeepdive.org/api/snippets?term=bird gps collar&clean&full_results\n",
      "https://geodeepdive.org/api/snippets?term=bird gps unit&clean&full_results\n"
     ]
    }
   ],
   "source": [
    "# IDENTIFY PAPERS WHICH POTENTIALLY DID NOT CITE BBL OR BBO DIRECTLY\n",
    "\n",
    "route = 'snippets'\n",
    "\n",
    "#Set a term or loop through terms\n",
    "terms = ['avian','songbird','bird']\n",
    "terms2 = ['mist','mist net','banding','web tag','color band','aluminum band','neck collar', \n",
    "          'ratio transmitter','telemetry', 'gps collar', 'gps unit']\n",
    "         \n",
    "for i in terms:\n",
    "    for j in terms2: \n",
    "        #List of available parameters and examples : 'https://geodeepdive.org/api/snippets'\n",
    "        params = 'term=' + i + ' ' +  j + '&clean&full_results'\n",
    "\n",
    "\n",
    "        #Search xDD results (detailed results per article) and hits = total # articles with mentions\n",
    "        results, hits = xdd_api(route, params)\n",
    "\n",
    "        with open('xdd_json/' + i + '.txt', 'w') as outfile:\n",
    "            json.dump(results, outfile)"
   ]
  },
  {
   "cell_type": "code",
   "execution_count": null,
   "metadata": {},
   "outputs": [],
   "source": []
  },
  {
   "cell_type": "code",
   "execution_count": null,
   "metadata": {},
   "outputs": [],
   "source": []
  }
 ],
 "metadata": {
  "kernelspec": {
   "display_name": "Python 3",
   "language": "python",
   "name": "python3"
  },
  "language_info": {
   "codemirror_mode": {
    "name": "ipython",
    "version": 3
   },
   "file_extension": ".py",
   "mimetype": "text/x-python",
   "name": "python",
   "nbconvert_exporter": "python",
   "pygments_lexer": "ipython3",
   "version": "3.7.4"
  }
 },
 "nbformat": 4,
 "nbformat_minor": 2
}
