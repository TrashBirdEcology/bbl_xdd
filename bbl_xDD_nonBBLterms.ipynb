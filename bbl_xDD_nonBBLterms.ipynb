{
 "cells": [
  {
   "cell_type": "code",
   "execution_count": 1,
   "metadata": {},
   "outputs": [],
   "source": [
    "import json \n",
    "import requests"
   ]
  },
  {
   "cell_type": "code",
   "execution_count": 2,
   "metadata": {},
   "outputs": [],
   "source": [
    "\n",
    "def xdd_api(route, params):\n",
    "    \"\"\"Create list of docs mentioning a term of interest\n",
    "    Parameters : see https://geodeepdive.org/api for more detail\n",
    "    ----------\n",
    "    routes : str of available api routes for xDD \n",
    "    params : str of key value pairs of paramaters:values separated by &\n",
    "    \"\"\"\n",
    "    url = 'https://geodeepdive.org/api'\n",
    "    search = (url + '/' + route + '?' + str(params) )\n",
    "    all_data = []\n",
    "    print (search)\n",
    "    try:\n",
    "        while search != '':\n",
    "            r=requests.get(search)\n",
    "            if r.status_code == 200 and 'success' in r.json():\n",
    "                json_r = r.json()\n",
    "                data = json_r['success']['data']\n",
    "                search = json_r['success']['next_page']\n",
    "                hits = json_r['success']['hits']\n",
    "                for i in data:\n",
    "                    all_data.append(i)\n",
    "            else:\n",
    "                raise Exception('xDD API returning: {}'.format(r.status_code))\n",
    "            \n",
    "    except Exception as e:\n",
    "        raise Exception(e)\n",
    "        \n",
    "    return all_data, hits\n"
   ]
  },
  {
   "cell_type": "code",
   "execution_count": 4,
   "metadata": {},
   "outputs": [
    {
     "name": "stdout",
     "output_type": "stream",
     "text": [
      "https://geodeepdive.org/api/snippets?term=birdmist net&clean&full_results\n",
      "https://geodeepdive.org/api/snippets?term=birdcolor band&clean&full_results\n",
      "https://geodeepdive.org/api/snippets?term=birdneck collar&clean&full_results\n",
      "https://geodeepdive.org/api/snippets?term=birdradio transmitter&clean&full_results\n",
      "https://geodeepdive.org/api/snippets?term=birdtelemetry&clean&full_results\n",
      "https://geodeepdive.org/api/snippets?term=birdbird band&clean&full_results\n",
      "https://geodeepdive.org/api/snippets?term=birdaluminum band&clean&full_results\n",
      "https://geodeepdive.org/api/snippets?term=birdbanding&clean&full_results\n",
      "https://geodeepdive.org/api/snippets?term=birdbanding office&clean&full_results\n",
      "https://geodeepdive.org/api/snippets?term=avianmist net&clean&full_results\n",
      "https://geodeepdive.org/api/snippets?term=aviancolor band&clean&full_results\n",
      "https://geodeepdive.org/api/snippets?term=avianneck collar&clean&full_results\n",
      "https://geodeepdive.org/api/snippets?term=avianradio transmitter&clean&full_results\n",
      "https://geodeepdive.org/api/snippets?term=aviantelemetry&clean&full_results\n",
      "https://geodeepdive.org/api/snippets?term=avianbird band&clean&full_results\n",
      "https://geodeepdive.org/api/snippets?term=avianaluminum band&clean&full_results\n",
      "https://geodeepdive.org/api/snippets?term=avianbanding&clean&full_results\n",
      "https://geodeepdive.org/api/snippets?term=avianbanding office&clean&full_results\n"
     ]
    }
   ],
   "source": [
    "#Specify API route and parameters needed for search\n",
    "\n",
    "route = 'snippets'\n",
    "\n",
    "#Set a term or loop through terms\n",
    "terms  = [ 'mist net', 'color band', 'neck collar', 'radio transmitter', 'telemetry', 'bird band', 'aluminum band', 'banding', 'banding office']\n",
    "\n",
    "for i in terms:\n",
    "    for j in terms2:\n",
    "        #List of available parameters and examples : 'https://geodeepdive.org/api/snippets'\n",
    "        params = 'term=' + i + j '&clean&full_results'\n",
    "        #Search xDD results (detailed results per article) and hits = total # articles with mentions\n",
    "        results, hits = xdd_api(route, params)\n",
    "\n",
    "        with open('xdd_json/' + i + '_' + j + '.txt', 'w') as outfile:\n",
    "            json.dump(results, outfile)\n",
    "    "
   ]
  },
  {
   "cell_type": "code",
   "execution_count": null,
   "metadata": {},
   "outputs": [],
   "source": []
  },
  {
   "cell_type": "code",
   "execution_count": null,
   "metadata": {},
   "outputs": [],
   "source": []
  },
  {
   "cell_type": "code",
   "execution_count": null,
   "metadata": {},
   "outputs": [],
   "source": []
  }
 ],
 "metadata": {
  "kernelspec": {
   "display_name": "Python 3",
   "language": "python",
   "name": "python3"
  },
  "language_info": {
   "codemirror_mode": {
    "name": "ipython",
    "version": 3
   },
   "file_extension": ".py",
   "mimetype": "text/x-python",
   "name": "python",
   "nbconvert_exporter": "python",
   "pygments_lexer": "ipython3",
   "version": "3.7.4"
  }
 },
 "nbformat": 4,
 "nbformat_minor": 2
}
